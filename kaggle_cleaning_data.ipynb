{
 "cells": [
  {
   "cell_type": "code",
   "execution_count": 2,
   "id": "ca889c47-6d58-4808-8bc8-025553ab4a8d",
   "metadata": {},
   "outputs": [],
   "source": [
    "import json\n",
    "import pandas as pd\n",
    "import numpy as np\n",
    "import re"
   ]
  },
  {
   "cell_type": "code",
   "execution_count": 3,
   "id": "2eefb28d-0761-4ccf-b7c8-5062a42d3665",
   "metadata": {},
   "outputs": [],
   "source": [
    "file_dir = '/Users/victoralvarado/Desktop/class_folder/Movies-ETL'"
   ]
  },
  {
   "cell_type": "code",
   "execution_count": 4,
   "id": "eef49968-8666-46c3-a6a0-cc010959b8ee",
   "metadata": {},
   "outputs": [],
   "source": [
    "with open(f'{file_dir}/wikipedia-movies.json', mode='r') as file:\n",
    "    wiki_movies_raw = json.load(file)\n"
   ]
  },
  {
   "cell_type": "code",
   "execution_count": 5,
   "id": "aa950bd8-87e9-4e58-9fcd-0ef566eaff23",
   "metadata": {},
   "outputs": [],
   "source": [
    "movies_metadata = pd.read_csv('movies_metadata.csv', low_memory=False)\n",
    "ratings = pd.read_csv('ratings.csv')"
   ]
  },
  {
   "cell_type": "code",
   "execution_count": 6,
   "id": "5d85455b-ffeb-4660-b50e-093eab90dd1d",
   "metadata": {},
   "outputs": [
    {
     "data": {
      "text/html": [
       "<div>\n",
       "<style scoped>\n",
       "    .dataframe tbody tr th:only-of-type {\n",
       "        vertical-align: middle;\n",
       "    }\n",
       "\n",
       "    .dataframe tbody tr th {\n",
       "        vertical-align: top;\n",
       "    }\n",
       "\n",
       "    .dataframe thead th {\n",
       "        text-align: right;\n",
       "    }\n",
       "</style>\n",
       "<table border=\"1\" class=\"dataframe\">\n",
       "  <thead>\n",
       "    <tr style=\"text-align: right;\">\n",
       "      <th></th>\n",
       "      <th>userId</th>\n",
       "      <th>movieId</th>\n",
       "      <th>rating</th>\n",
       "      <th>timestamp</th>\n",
       "    </tr>\n",
       "  </thead>\n",
       "  <tbody>\n",
       "    <tr>\n",
       "      <th>2861099</th>\n",
       "      <td>29803</td>\n",
       "      <td>1247</td>\n",
       "      <td>3.0</td>\n",
       "      <td>1249874136</td>\n",
       "    </tr>\n",
       "    <tr>\n",
       "      <th>11673611</th>\n",
       "      <td>121083</td>\n",
       "      <td>3943</td>\n",
       "      <td>5.0</td>\n",
       "      <td>987782290</td>\n",
       "    </tr>\n",
       "    <tr>\n",
       "      <th>22688528</th>\n",
       "      <td>235772</td>\n",
       "      <td>1378</td>\n",
       "      <td>3.5</td>\n",
       "      <td>1210476388</td>\n",
       "    </tr>\n",
       "    <tr>\n",
       "      <th>23837661</th>\n",
       "      <td>247544</td>\n",
       "      <td>2028</td>\n",
       "      <td>5.0</td>\n",
       "      <td>974832591</td>\n",
       "    </tr>\n",
       "    <tr>\n",
       "      <th>18918135</th>\n",
       "      <td>196434</td>\n",
       "      <td>4361</td>\n",
       "      <td>4.5</td>\n",
       "      <td>1225597499</td>\n",
       "    </tr>\n",
       "  </tbody>\n",
       "</table>\n",
       "</div>"
      ],
      "text/plain": [
       "          userId  movieId  rating   timestamp\n",
       "2861099    29803     1247     3.0  1249874136\n",
       "11673611  121083     3943     5.0   987782290\n",
       "22688528  235772     1378     3.5  1210476388\n",
       "23837661  247544     2028     5.0   974832591\n",
       "18918135  196434     4361     4.5  1225597499"
      ]
     },
     "execution_count": 6,
     "metadata": {},
     "output_type": "execute_result"
    }
   ],
   "source": [
    "ratings.sample(n=5)"
   ]
  },
  {
   "cell_type": "code",
   "execution_count": 7,
   "id": "93ae6465-e670-49bf-a1fe-01eee4f7e5ee",
   "metadata": {},
   "outputs": [],
   "source": [
    "kaggle_metadata = pd.read_csv(f'movies_metadata.csv', low_memory=False)\n",
    "ratings = pd.read_csv(f'ratings.csv')"
   ]
  },
  {
   "cell_type": "code",
   "execution_count": 8,
   "id": "6683e414-48cb-4783-ae24-fe7e501ab857",
   "metadata": {},
   "outputs": [
    {
     "data": {
      "text/plain": [
       "adult                     object\n",
       "belongs_to_collection     object\n",
       "budget                    object\n",
       "genres                    object\n",
       "homepage                  object\n",
       "id                        object\n",
       "imdb_id                   object\n",
       "original_language         object\n",
       "original_title            object\n",
       "overview                  object\n",
       "popularity                object\n",
       "poster_path               object\n",
       "production_companies      object\n",
       "production_countries      object\n",
       "release_date              object\n",
       "revenue                  float64\n",
       "runtime                  float64\n",
       "spoken_languages          object\n",
       "status                    object\n",
       "tagline                   object\n",
       "title                     object\n",
       "video                     object\n",
       "vote_average             float64\n",
       "vote_count               float64\n",
       "dtype: object"
      ]
     },
     "execution_count": 8,
     "metadata": {},
     "output_type": "execute_result"
    }
   ],
   "source": [
    "kaggle_metadata.dtypes"
   ]
  },
  {
   "cell_type": "code",
   "execution_count": 9,
   "id": "014d924e-5da8-46f5-8275-1f8ce09ecb9d",
   "metadata": {},
   "outputs": [
    {
     "data": {
      "text/plain": [
       "False                                                                                                                             45454\n",
       "True                                                                                                                                  9\n",
       " - Written by Ørnås                                                                                                                   1\n",
       " Rune Balot goes to a casino connected to the October corporation to try to wrap up her case once and for all.                        1\n",
       " Avalanche Sharks tells the story of a bikini contest that turns into a horrifying affair when it is hit by a shark avalanche.        1\n",
       "Name: adult, dtype: int64"
      ]
     },
     "execution_count": 9,
     "metadata": {},
     "output_type": "execute_result"
    }
   ],
   "source": [
    "# ID NEEDS TO BE NUMERIC\n",
    "# BUDGET NEEDS TO BE NUMERIC\n",
    "# VIDEO SHOULD BE BOOLEAN\n",
    "#POPULARITY NEEDS TO BE NUMERIC\n",
    "# ADULT = BOOLEAN\n",
    "# RELEASE_DATE = DATETIME\n",
    "\n",
    "#We'll just go down the list and convert the data types for each of the six columns that need to be converted.\n",
    "\n",
    "#Before we convert the \"adult\" and \"video\" columns, we want to check that all the values are either True or False.\n",
    "\n",
    "kaggle_metadata['adult'].value_counts()"
   ]
  },
  {
   "cell_type": "code",
   "execution_count": 10,
   "id": "9f72ae03-7b34-4775-a014-87304edf4268",
   "metadata": {},
   "outputs": [
    {
     "data": {
      "text/html": [
       "<div>\n",
       "<style scoped>\n",
       "    .dataframe tbody tr th:only-of-type {\n",
       "        vertical-align: middle;\n",
       "    }\n",
       "\n",
       "    .dataframe tbody tr th {\n",
       "        vertical-align: top;\n",
       "    }\n",
       "\n",
       "    .dataframe thead th {\n",
       "        text-align: right;\n",
       "    }\n",
       "</style>\n",
       "<table border=\"1\" class=\"dataframe\">\n",
       "  <thead>\n",
       "    <tr style=\"text-align: right;\">\n",
       "      <th></th>\n",
       "      <th>adult</th>\n",
       "      <th>belongs_to_collection</th>\n",
       "      <th>budget</th>\n",
       "      <th>genres</th>\n",
       "      <th>homepage</th>\n",
       "      <th>id</th>\n",
       "      <th>imdb_id</th>\n",
       "      <th>original_language</th>\n",
       "      <th>original_title</th>\n",
       "      <th>overview</th>\n",
       "      <th>...</th>\n",
       "      <th>release_date</th>\n",
       "      <th>revenue</th>\n",
       "      <th>runtime</th>\n",
       "      <th>spoken_languages</th>\n",
       "      <th>status</th>\n",
       "      <th>tagline</th>\n",
       "      <th>title</th>\n",
       "      <th>video</th>\n",
       "      <th>vote_average</th>\n",
       "      <th>vote_count</th>\n",
       "    </tr>\n",
       "  </thead>\n",
       "  <tbody>\n",
       "    <tr>\n",
       "      <th>19730</th>\n",
       "      <td>- Written by Ørnås</td>\n",
       "      <td>0.065736</td>\n",
       "      <td>/ff9qCepilowshEtG2GYWwzt2bs4.jpg</td>\n",
       "      <td>[{'name': 'Carousel Productions', 'id': 11176}...</td>\n",
       "      <td>[{'iso_3166_1': 'CA', 'name': 'Canada'}, {'iso...</td>\n",
       "      <td>1997-08-20</td>\n",
       "      <td>0</td>\n",
       "      <td>104.0</td>\n",
       "      <td>[{'iso_639_1': 'en', 'name': 'English'}]</td>\n",
       "      <td>Released</td>\n",
       "      <td>...</td>\n",
       "      <td>1</td>\n",
       "      <td>NaN</td>\n",
       "      <td>NaN</td>\n",
       "      <td>NaN</td>\n",
       "      <td>NaN</td>\n",
       "      <td>NaN</td>\n",
       "      <td>NaN</td>\n",
       "      <td>NaN</td>\n",
       "      <td>NaN</td>\n",
       "      <td>NaN</td>\n",
       "    </tr>\n",
       "    <tr>\n",
       "      <th>29503</th>\n",
       "      <td>Rune Balot goes to a casino connected to the ...</td>\n",
       "      <td>1.931659</td>\n",
       "      <td>/zV8bHuSL6WXoD6FWogP9j4x80bL.jpg</td>\n",
       "      <td>[{'name': 'Aniplex', 'id': 2883}, {'name': 'Go...</td>\n",
       "      <td>[{'iso_3166_1': 'US', 'name': 'United States o...</td>\n",
       "      <td>2012-09-29</td>\n",
       "      <td>0</td>\n",
       "      <td>68.0</td>\n",
       "      <td>[{'iso_639_1': 'ja', 'name': '日本語'}]</td>\n",
       "      <td>Released</td>\n",
       "      <td>...</td>\n",
       "      <td>12</td>\n",
       "      <td>NaN</td>\n",
       "      <td>NaN</td>\n",
       "      <td>NaN</td>\n",
       "      <td>NaN</td>\n",
       "      <td>NaN</td>\n",
       "      <td>NaN</td>\n",
       "      <td>NaN</td>\n",
       "      <td>NaN</td>\n",
       "      <td>NaN</td>\n",
       "    </tr>\n",
       "    <tr>\n",
       "      <th>35587</th>\n",
       "      <td>Avalanche Sharks tells the story of a bikini ...</td>\n",
       "      <td>2.185485</td>\n",
       "      <td>/zaSf5OG7V8X8gqFvly88zDdRm46.jpg</td>\n",
       "      <td>[{'name': 'Odyssey Media', 'id': 17161}, {'nam...</td>\n",
       "      <td>[{'iso_3166_1': 'CA', 'name': 'Canada'}]</td>\n",
       "      <td>2014-01-01</td>\n",
       "      <td>0</td>\n",
       "      <td>82.0</td>\n",
       "      <td>[{'iso_639_1': 'en', 'name': 'English'}]</td>\n",
       "      <td>Released</td>\n",
       "      <td>...</td>\n",
       "      <td>22</td>\n",
       "      <td>NaN</td>\n",
       "      <td>NaN</td>\n",
       "      <td>NaN</td>\n",
       "      <td>NaN</td>\n",
       "      <td>NaN</td>\n",
       "      <td>NaN</td>\n",
       "      <td>NaN</td>\n",
       "      <td>NaN</td>\n",
       "      <td>NaN</td>\n",
       "    </tr>\n",
       "  </tbody>\n",
       "</table>\n",
       "<p>3 rows × 24 columns</p>\n",
       "</div>"
      ],
      "text/plain": [
       "                                                   adult  \\\n",
       "19730                                 - Written by Ørnås   \n",
       "29503   Rune Balot goes to a casino connected to the ...   \n",
       "35587   Avalanche Sharks tells the story of a bikini ...   \n",
       "\n",
       "      belongs_to_collection                            budget  \\\n",
       "19730              0.065736  /ff9qCepilowshEtG2GYWwzt2bs4.jpg   \n",
       "29503              1.931659  /zV8bHuSL6WXoD6FWogP9j4x80bL.jpg   \n",
       "35587              2.185485  /zaSf5OG7V8X8gqFvly88zDdRm46.jpg   \n",
       "\n",
       "                                                  genres  \\\n",
       "19730  [{'name': 'Carousel Productions', 'id': 11176}...   \n",
       "29503  [{'name': 'Aniplex', 'id': 2883}, {'name': 'Go...   \n",
       "35587  [{'name': 'Odyssey Media', 'id': 17161}, {'nam...   \n",
       "\n",
       "                                                homepage          id imdb_id  \\\n",
       "19730  [{'iso_3166_1': 'CA', 'name': 'Canada'}, {'iso...  1997-08-20       0   \n",
       "29503  [{'iso_3166_1': 'US', 'name': 'United States o...  2012-09-29       0   \n",
       "35587           [{'iso_3166_1': 'CA', 'name': 'Canada'}]  2014-01-01       0   \n",
       "\n",
       "      original_language                            original_title  overview  \\\n",
       "19730             104.0  [{'iso_639_1': 'en', 'name': 'English'}]  Released   \n",
       "29503              68.0      [{'iso_639_1': 'ja', 'name': '日本語'}]  Released   \n",
       "35587              82.0  [{'iso_639_1': 'en', 'name': 'English'}]  Released   \n",
       "\n",
       "       ... release_date revenue runtime spoken_languages status  tagline  \\\n",
       "19730  ...            1     NaN     NaN              NaN    NaN      NaN   \n",
       "29503  ...           12     NaN     NaN              NaN    NaN      NaN   \n",
       "35587  ...           22     NaN     NaN              NaN    NaN      NaN   \n",
       "\n",
       "       title video vote_average vote_count  \n",
       "19730    NaN   NaN          NaN        NaN  \n",
       "29503    NaN   NaN          NaN        NaN  \n",
       "35587    NaN   NaN          NaN        NaN  \n",
       "\n",
       "[3 rows x 24 columns]"
      ]
     },
     "execution_count": 10,
     "metadata": {},
     "output_type": "execute_result"
    }
   ],
   "source": [
    "#Clearly, we have some bad data in here. Let's remove it.\n",
    "\n",
    "#Remove Bad Data\n",
    "#To remove the bad data, use the following:\n",
    "\n",
    "kaggle_metadata[~kaggle_metadata['adult'].isin(['True','False'])]\n"
   ]
  },
  {
   "cell_type": "code",
   "execution_count": 11,
   "id": "6b6f1f13-5aef-410c-8748-e6cf25cbacc5",
   "metadata": {},
   "outputs": [],
   "source": [
    "#Take a closer look at the three movies that appear to have corrupted data:\n",
    "\n",
    "#Somehow the columns got scrambled for these three movies.\n",
    "\n",
    "#How do we fix the data here?\n",
    "\n",
    "#Ideally, we'd want to be able to unscramble the rows and recover the data. But since we don't know what caused the data to be scrambled, \n",
    "#it's also possible that even if we got all the data into the right columns, the data would still be corrupt.\n",
    "\n",
    "#The biggest concern is that none of the data in these rows looks like an imdb_id. Since that's missing, \n",
    "#there's no amount of rearranging that will make these rows into good data. We're just going to have to drop them.\n",
    "\n",
    "#In fact, since we probably don't want to include adult movies in the hackathon dataset, \n",
    "#we'll only keep rows where adult is False, and then drop the \"adult\" column."
   ]
  },
  {
   "cell_type": "code",
   "execution_count": 12,
   "id": "0a7048cf-5ab1-49bc-836a-cf2e52e328dc",
   "metadata": {},
   "outputs": [],
   "source": [
    "#The following code will keep rows where the adult column is False, and then drop the adult column.\n",
    "\n",
    "kaggle_metadata = kaggle_metadata[kaggle_metadata['adult'] == 'False'].drop('adult',axis='columns')"
   ]
  },
  {
   "cell_type": "code",
   "execution_count": 13,
   "id": "0456bcd6-0bcc-4974-ad6b-bb8c576781dd",
   "metadata": {},
   "outputs": [
    {
     "data": {
      "text/plain": [
       "False    45358\n",
       "True        93\n",
       "Name: video, dtype: int64"
      ]
     },
     "execution_count": 13,
     "metadata": {},
     "output_type": "execute_result"
    }
   ],
   "source": [
    "#Next, we'll look at the values of the video column:\n",
    "\n",
    "kaggle_metadata['video'].value_counts()"
   ]
  },
  {
   "cell_type": "code",
   "execution_count": 14,
   "id": "da5db605-171a-438c-bfc5-b54650388180",
   "metadata": {},
   "outputs": [
    {
     "data": {
      "text/plain": [
       "0        False\n",
       "1        False\n",
       "2        False\n",
       "3        False\n",
       "4        False\n",
       "         ...  \n",
       "45461    False\n",
       "45462    False\n",
       "45463    False\n",
       "45464    False\n",
       "45465    False\n",
       "Name: video, Length: 45454, dtype: bool"
      ]
     },
     "execution_count": 14,
     "metadata": {},
     "output_type": "execute_result"
    }
   ],
   "source": [
    "#Great, there are only False and True values. We can convert video fairly easily.\n",
    "kaggle_metadata['video'] == 'True'\n"
   ]
  },
  {
   "cell_type": "code",
   "execution_count": 15,
   "id": "fa3d8132-ef94-427d-95c8-3097835ae319",
   "metadata": {},
   "outputs": [],
   "source": [
    "#The above code creates the Boolean column we want. We just need to assign it back to video:\n",
    "\n",
    "kaggle_metadata['video'] = kaggle_metadata['video'] == 'True'"
   ]
  },
  {
   "cell_type": "code",
   "execution_count": 16,
   "id": "987cca88-7c7a-4c32-8479-471e8ffa6c36",
   "metadata": {},
   "outputs": [],
   "source": [
    "#For the numeric columns, we can just use the to_numeric() method from Pandas. \n",
    "#We'll make sure the errors= argument is set to 'raise', so we'll know if there's any data that can't be converted to numbers.\n",
    "\n",
    "kaggle_metadata['budget'] = kaggle_metadata['budget'].astype(int)\n",
    "kaggle_metadata['id'] = pd.to_numeric(kaggle_metadata['id'], errors='raise')\n",
    "kaggle_metadata['popularity'] = pd.to_numeric(kaggle_metadata['popularity'], errors='raise')"
   ]
  },
  {
   "cell_type": "code",
   "execution_count": 17,
   "id": "f061c1fd-41b0-4e83-8652-f88a45edb083",
   "metadata": {},
   "outputs": [],
   "source": [
    "#This code runs without errors, so everything converted fine.\n",
    "\n"
   ]
  },
  {
   "cell_type": "code",
   "execution_count": 18,
   "id": "e34ab068-8514-45ad-a2e5-fa2d9ba85357",
   "metadata": {},
   "outputs": [],
   "source": [
    "#Finally, we need to convert release_date to datetime. Luckily, Pandas has a built-in function for that as well: to_datetime().\n",
    "#Since release_date is in a standard format, to_datetime() will convert it without any fuss.\n",
    "\n",
    "kaggle_metadata['release_date'] = pd.to_datetime(kaggle_metadata['release_date'])\n"
   ]
  },
  {
   "cell_type": "code",
   "execution_count": 19,
   "id": "d9585596-f5c6-45f4-b77e-e7d2585bfdb2",
   "metadata": {},
   "outputs": [
    {
     "name": "stdout",
     "output_type": "stream",
     "text": [
      "<class 'pandas.core.frame.DataFrame'>\n",
      "RangeIndex: 26024289 entries, 0 to 26024288\n",
      "Data columns (total 4 columns):\n",
      " #   Column     Non-Null Count     Dtype  \n",
      "---  ------     --------------     -----  \n",
      " 0   userId     26024289 non-null  int64  \n",
      " 1   movieId    26024289 non-null  int64  \n",
      " 2   rating     26024289 non-null  float64\n",
      " 3   timestamp  26024289 non-null  int64  \n",
      "dtypes: float64(1), int64(3)\n",
      "memory usage: 794.2 MB\n"
     ]
    },
    {
     "name": "stderr",
     "output_type": "stream",
     "text": [
      "/var/folders/5g/99y1_mx51lv8jv_cy6tg659m0000gn/T/ipykernel_45297/227424168.py:4: FutureWarning: null_counts is deprecated. Use show_counts instead\n",
      "  ratings.info(null_counts=True)\n"
     ]
    }
   ],
   "source": [
    "#Lastly, we'll take a look at the ratings data. We'll use the info() method on the DataFrame. \n",
    "#Since the ratings dataset has so many rows, we need to set the null_counts option to True.\n",
    "\n",
    "ratings.info(null_counts=True)\n"
   ]
  },
  {
   "cell_type": "code",
   "execution_count": 20,
   "id": "e51b7464-a877-4587-b970-600dc6895a62",
   "metadata": {},
   "outputs": [],
   "source": [
    "#For our own analysis, we won't be using the timestamp column; however, we will be storing the rating data as its own table in SQL,\n",
    "#so we'll need to convert it to a datetime data type. From the MovieLens documentation, the timestamp \n",
    "#is the number of seconds since midnight of January 1, 1970.\n",
    "\n",
    "#IMPORTANT\n",
    "#Storing time values as a data type is difficult, and there are many, many standards out there for time values. \n",
    "#Some store time values as text strings, like the ISO format \"1955-11-05T12:00:00,\" but then calculating the difference between two \n",
    "#time values is complicated and computationally expensive. The Unix time standard stores points of time as integers, \n",
    "#specifically as the number of seconds that have elapsed since midnight of January 1, 1970. This is known as the Unix epoch. \n",
    "#There are other epochs in use, but the Unix epoch is by far the most widespread."
   ]
  },
  {
   "cell_type": "code",
   "execution_count": 21,
   "id": "f4ad0b0e-31a1-43a7-9af1-ff2afbfcbb20",
   "metadata": {},
   "outputs": [
    {
     "data": {
      "text/plain": [
       "0          2015-03-09 22:52:09\n",
       "1          2015-03-09 23:07:15\n",
       "2          2015-03-09 22:52:03\n",
       "3          2015-03-09 22:52:26\n",
       "4          2015-03-09 22:52:36\n",
       "                   ...        \n",
       "26024284   2009-10-31 23:26:04\n",
       "26024285   2009-10-31 23:33:52\n",
       "26024286   2009-10-31 23:29:24\n",
       "26024287   2009-11-01 00:06:30\n",
       "26024288   2009-10-31 23:30:58\n",
       "Name: timestamp, Length: 26024289, dtype: datetime64[ns]"
      ]
     },
     "execution_count": 21,
     "metadata": {},
     "output_type": "execute_result"
    }
   ],
   "source": [
    "#We'll specify in to_datetime() that the origin is 'unix' and the time unit is seconds.\n",
    "\n",
    "pd.to_datetime(ratings['timestamp'], unit='s')\n"
   ]
  },
  {
   "cell_type": "code",
   "execution_count": 22,
   "id": "3a40a1af-e0d6-4bfe-bfd6-d7e4256b7a49",
   "metadata": {},
   "outputs": [],
   "source": [
    "#These dates don't seem outlandish—the years are within expected bounds, and there appears to be some consistency from one entry to the next. \n",
    "#Since the output looks reasonable, assign it to the timestamp column.\n",
    "\n",
    "ratings['timestamp'] = pd.to_datetime(ratings['timestamp'], unit='s')\n"
   ]
  },
  {
   "cell_type": "code",
   "execution_count": 23,
   "id": "4bcb50b0-fe0a-4370-b25a-078ebdb8e3cd",
   "metadata": {},
   "outputs": [],
   "source": [
    "#Finally, we'll look at the statistics of the actual ratings and see if there are any glaring errors. A quick, easy way to do \n",
    "#this is to look at a histogram of the rating distributions, and then use the describe() method to print out some stats on \n",
    "#central tendency and spread."
   ]
  },
  {
   "cell_type": "code",
   "execution_count": 24,
   "id": "546b52fe-5154-46f9-a36a-b3a7a13d35b0",
   "metadata": {},
   "outputs": [
    {
     "data": {
      "text/plain": [
       "count          26,024,289.00\n",
       "mean                    3.53\n",
       "std                     1.07\n",
       "min                     0.50\n",
       "25%                     3.00\n",
       "50%                     3.50\n",
       "75%                     4.00\n",
       "max                     5.00\n",
       "Name: rating, dtype: float64"
      ]
     },
     "execution_count": 24,
     "metadata": {},
     "output_type": "execute_result"
    },
    {
     "data": {
      "image/png": "[encoded data removed]",
      "text/plain": [
       "<Figure size 640x480 with 1 Axes>"
      ]
     },
     "metadata": {},
     "output_type": "display_data"
    }
   ],
   "source": [
    "pd.options.display.float_format = '{:20,.2f}'.format\n",
    "ratings['rating'].plot(kind='hist')\n",
    "ratings['rating'].describe()"
   ]
  },
  {
   "cell_type": "code",
   "execution_count": 25,
   "id": "252f3c13-f595-4268-8c77-3314625c11a0",
   "metadata": {},
   "outputs": [],
   "source": [
    "#That seems to make sense. People are more likely to give whole number ratings than half, which explains the spikes in the histogram. \n",
    "#The median score is 3.5, the mean is 3.53, and all the ratings are between 0 and 5.\n",
    "\n"
   ]
  },
  {
   "cell_type": "code",
   "execution_count": 26,
   "id": "78b7f6c1-f84a-45ef-b64a-30a8fcbac7c3",
   "metadata": {},
   "outputs": [
    {
     "ename": "NameError",
     "evalue": "name 'wiki_movies_df' is not defined",
     "output_type": "error",
     "traceback": [
      "\u001b[0;31m---------------------------------------------------------------------------\u001b[0m",
      "\u001b[0;31mNameError\u001b[0m                                 Traceback (most recent call last)",
      "Input \u001b[0;32mIn [26]\u001b[0m, in \u001b[0;36m<cell line: 1>\u001b[0;34m()\u001b[0m\n\u001b[0;32m----> 1\u001b[0m movies_df \u001b[38;5;241m=\u001b[39m pd\u001b[38;5;241m.\u001b[39mmerge(\u001b[43mwiki_movies_df\u001b[49m, kaggle_metadata, on\u001b[38;5;241m=\u001b[39m\u001b[38;5;124m'\u001b[39m\u001b[38;5;124mimdb_id\u001b[39m\u001b[38;5;124m'\u001b[39m, suffixes\u001b[38;5;241m=\u001b[39m[\u001b[38;5;124m'\u001b[39m\u001b[38;5;124m_wiki\u001b[39m\u001b[38;5;124m'\u001b[39m,\u001b[38;5;124m'\u001b[39m\u001b[38;5;124m_kaggle\u001b[39m\u001b[38;5;124m'\u001b[39m])\n",
      "\u001b[0;31mNameError\u001b[0m: name 'wiki_movies_df' is not defined"
     ]
    }
   ],
   "source": [
    "movies_df = pd.merge(wiki_movies_df, kaggle_metadata, on='imdb_id', suffixes=['_wiki','_kaggle'])\n"
   ]
  },
  {
   "cell_type": "code",
   "execution_count": null,
   "id": "4e00a601-c5b9-4353-a539-43c15232f711",
   "metadata": {},
   "outputs": [],
   "source": []
  }
 ],
 "metadata": {
  "kernelspec": {
   "display_name": "Python 3 (ipykernel)",
   "language": "python",
   "name": "python3"
  },
  "language_info": {
   "codemirror_mode": {
    "name": "ipython",
    "version": 3
   },
   "file_extension": ".py",
   "mimetype": "text/x-python",
   "name": "python",
   "nbconvert_exporter": "python",
   "pygments_lexer": "ipython3",
   "version": "3.9.12"
  }
 },
 "nbformat": 4,
 "nbformat_minor": 5
}
